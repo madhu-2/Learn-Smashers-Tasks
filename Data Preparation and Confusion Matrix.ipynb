{
 "cells": [
  {
   "cell_type": "code",
   "execution_count": 1,
   "metadata": {},
   "outputs": [],
   "source": [
    "#Performing Task1 from Learn Smashers Machine Learning Internship"
   ]
  },
  {
   "cell_type": "code",
   "execution_count": 57,
   "metadata": {},
   "outputs": [],
   "source": [
    "#Importing the necessary libraries\n",
    "import pandas as pd\n",
    "from sklearn.model_selection import train_test_split\n",
    "from sklearn.metrics import confusion_matrix,classification_report"
   ]
  },
  {
   "cell_type": "code",
   "execution_count": 7,
   "metadata": {},
   "outputs": [
    {
     "data": {
      "text/html": [
       "<div>\n",
       "<style scoped>\n",
       "    .dataframe tbody tr th:only-of-type {\n",
       "        vertical-align: middle;\n",
       "    }\n",
       "\n",
       "    .dataframe tbody tr th {\n",
       "        vertical-align: top;\n",
       "    }\n",
       "\n",
       "    .dataframe thead th {\n",
       "        text-align: right;\n",
       "    }\n",
       "</style>\n",
       "<table border=\"1\" class=\"dataframe\">\n",
       "  <thead>\n",
       "    <tr style=\"text-align: right;\">\n",
       "      <th></th>\n",
       "      <th>YEAR</th>\n",
       "      <th>JAN</th>\n",
       "      <th>FEB</th>\n",
       "      <th>MAR</th>\n",
       "      <th>APR</th>\n",
       "      <th>MAY</th>\n",
       "      <th>JUN</th>\n",
       "      <th>JUL</th>\n",
       "      <th>AUG</th>\n",
       "      <th>SEP</th>\n",
       "      <th>OCT</th>\n",
       "      <th>NOV</th>\n",
       "      <th>DEC</th>\n",
       "      <th>ANNUAL</th>\n",
       "      <th>JAN-FEB</th>\n",
       "      <th>MAR-MAY</th>\n",
       "      <th>JUN-SEP</th>\n",
       "      <th>OCT-DEC</th>\n",
       "    </tr>\n",
       "  </thead>\n",
       "  <tbody>\n",
       "    <tr>\n",
       "      <th>0</th>\n",
       "      <td>1901</td>\n",
       "      <td>22.40</td>\n",
       "      <td>24.14</td>\n",
       "      <td>29.07</td>\n",
       "      <td>31.91</td>\n",
       "      <td>33.41</td>\n",
       "      <td>33.18</td>\n",
       "      <td>31.21</td>\n",
       "      <td>30.39</td>\n",
       "      <td>30.47</td>\n",
       "      <td>29.97</td>\n",
       "      <td>27.31</td>\n",
       "      <td>24.49</td>\n",
       "      <td>28.96</td>\n",
       "      <td>23.27</td>\n",
       "      <td>31.46</td>\n",
       "      <td>31.27</td>\n",
       "      <td>27.25</td>\n",
       "    </tr>\n",
       "    <tr>\n",
       "      <th>1</th>\n",
       "      <td>1902</td>\n",
       "      <td>24.93</td>\n",
       "      <td>26.58</td>\n",
       "      <td>29.77</td>\n",
       "      <td>31.78</td>\n",
       "      <td>33.73</td>\n",
       "      <td>32.91</td>\n",
       "      <td>30.92</td>\n",
       "      <td>30.73</td>\n",
       "      <td>29.80</td>\n",
       "      <td>29.12</td>\n",
       "      <td>26.31</td>\n",
       "      <td>24.04</td>\n",
       "      <td>29.22</td>\n",
       "      <td>25.75</td>\n",
       "      <td>31.76</td>\n",
       "      <td>31.09</td>\n",
       "      <td>26.49</td>\n",
       "    </tr>\n",
       "    <tr>\n",
       "      <th>2</th>\n",
       "      <td>1903</td>\n",
       "      <td>23.44</td>\n",
       "      <td>25.03</td>\n",
       "      <td>27.83</td>\n",
       "      <td>31.39</td>\n",
       "      <td>32.91</td>\n",
       "      <td>33.00</td>\n",
       "      <td>31.34</td>\n",
       "      <td>29.98</td>\n",
       "      <td>29.85</td>\n",
       "      <td>29.04</td>\n",
       "      <td>26.08</td>\n",
       "      <td>23.65</td>\n",
       "      <td>28.47</td>\n",
       "      <td>24.24</td>\n",
       "      <td>30.71</td>\n",
       "      <td>30.92</td>\n",
       "      <td>26.26</td>\n",
       "    </tr>\n",
       "    <tr>\n",
       "      <th>3</th>\n",
       "      <td>1904</td>\n",
       "      <td>22.50</td>\n",
       "      <td>24.73</td>\n",
       "      <td>28.21</td>\n",
       "      <td>32.02</td>\n",
       "      <td>32.64</td>\n",
       "      <td>32.07</td>\n",
       "      <td>30.36</td>\n",
       "      <td>30.09</td>\n",
       "      <td>30.04</td>\n",
       "      <td>29.20</td>\n",
       "      <td>26.36</td>\n",
       "      <td>23.63</td>\n",
       "      <td>28.49</td>\n",
       "      <td>23.62</td>\n",
       "      <td>30.95</td>\n",
       "      <td>30.66</td>\n",
       "      <td>26.40</td>\n",
       "    </tr>\n",
       "    <tr>\n",
       "      <th>4</th>\n",
       "      <td>1905</td>\n",
       "      <td>22.00</td>\n",
       "      <td>22.83</td>\n",
       "      <td>26.68</td>\n",
       "      <td>30.01</td>\n",
       "      <td>33.32</td>\n",
       "      <td>33.25</td>\n",
       "      <td>31.44</td>\n",
       "      <td>30.68</td>\n",
       "      <td>30.12</td>\n",
       "      <td>30.67</td>\n",
       "      <td>27.52</td>\n",
       "      <td>23.82</td>\n",
       "      <td>28.30</td>\n",
       "      <td>22.25</td>\n",
       "      <td>30.00</td>\n",
       "      <td>31.33</td>\n",
       "      <td>26.57</td>\n",
       "    </tr>\n",
       "  </tbody>\n",
       "</table>\n",
       "</div>"
      ],
      "text/plain": [
       "   YEAR    JAN    FEB    MAR    APR    MAY    JUN    JUL    AUG    SEP    OCT  \\\n",
       "0  1901  22.40  24.14  29.07  31.91  33.41  33.18  31.21  30.39  30.47  29.97   \n",
       "1  1902  24.93  26.58  29.77  31.78  33.73  32.91  30.92  30.73  29.80  29.12   \n",
       "2  1903  23.44  25.03  27.83  31.39  32.91  33.00  31.34  29.98  29.85  29.04   \n",
       "3  1904  22.50  24.73  28.21  32.02  32.64  32.07  30.36  30.09  30.04  29.20   \n",
       "4  1905  22.00  22.83  26.68  30.01  33.32  33.25  31.44  30.68  30.12  30.67   \n",
       "\n",
       "     NOV    DEC  ANNUAL  JAN-FEB  MAR-MAY  JUN-SEP  OCT-DEC  \n",
       "0  27.31  24.49   28.96    23.27    31.46    31.27    27.25  \n",
       "1  26.31  24.04   29.22    25.75    31.76    31.09    26.49  \n",
       "2  26.08  23.65   28.47    24.24    30.71    30.92    26.26  \n",
       "3  26.36  23.63   28.49    23.62    30.95    30.66    26.40  \n",
       "4  27.52  23.82   28.30    22.25    30.00    31.33    26.57  "
      ]
     },
     "execution_count": 7,
     "metadata": {},
     "output_type": "execute_result"
    }
   ],
   "source": [
    "#Loading the dataset into work environment\n",
    "#Loading a csv file in Python\n",
    "dataset = pd.read_csv(\"C:\\\\Users\\\\G.Madhu mitha\\\\Downloads\\\\temperatures.csv\")\n",
    "#Printing the head of the dataset\n",
    "dataset.head()"
   ]
  },
  {
   "cell_type": "code",
   "execution_count": 24,
   "metadata": {},
   "outputs": [
    {
     "name": "stdout",
     "output_type": "stream",
     "text": [
      "(117, 18)\n"
     ]
    }
   ],
   "source": [
    "# a)d the shape of the data\n",
    "print(dataset.shape)"
   ]
  },
  {
   "cell_type": "code",
   "execution_count": 23,
   "metadata": {},
   "outputs": [
    {
     "name": "stdout",
     "output_type": "stream",
     "text": [
      "YEAR       0\n",
      "JAN        0\n",
      "FEB        0\n",
      "MAR        0\n",
      "APR        0\n",
      "MAY        0\n",
      "JUN        0\n",
      "JUL        0\n",
      "AUG        0\n",
      "SEP        0\n",
      "OCT        0\n",
      "NOV        0\n",
      "DEC        0\n",
      "ANNUAL     0\n",
      "JAN-FEB    0\n",
      "MAR-MAY    0\n",
      "JUN-SEP    0\n",
      "OCT-DEC    0\n",
      "dtype: int64\n"
     ]
    }
   ],
   "source": [
    "# b)Find the missing values in the dataset\n",
    "#To know whether our data has got any missing values we use the na function\n",
    "print(dataset.isna().sum())"
   ]
  },
  {
   "cell_type": "code",
   "execution_count": 16,
   "metadata": {},
   "outputs": [],
   "source": [
    "#As we can see that our dataset has got no null values"
   ]
  },
  {
   "cell_type": "code",
   "execution_count": 22,
   "metadata": {},
   "outputs": [
    {
     "name": "stdout",
     "output_type": "stream",
     "text": [
      "<class 'pandas.core.frame.DataFrame'>\n",
      "RangeIndex: 117 entries, 0 to 116\n",
      "Data columns (total 18 columns):\n",
      " #   Column   Non-Null Count  Dtype  \n",
      "---  ------   --------------  -----  \n",
      " 0   YEAR     117 non-null    int64  \n",
      " 1   JAN      117 non-null    float64\n",
      " 2   FEB      117 non-null    float64\n",
      " 3   MAR      117 non-null    float64\n",
      " 4   APR      117 non-null    float64\n",
      " 5   MAY      117 non-null    float64\n",
      " 6   JUN      117 non-null    float64\n",
      " 7   JUL      117 non-null    float64\n",
      " 8   AUG      117 non-null    float64\n",
      " 9   SEP      117 non-null    float64\n",
      " 10  OCT      117 non-null    float64\n",
      " 11  NOV      117 non-null    float64\n",
      " 12  DEC      117 non-null    float64\n",
      " 13  ANNUAL   117 non-null    float64\n",
      " 14  JAN-FEB  117 non-null    float64\n",
      " 15  MAR-MAY  117 non-null    float64\n",
      " 16  JUN-SEP  117 non-null    float64\n",
      " 17  OCT-DEC  117 non-null    float64\n",
      "dtypes: float64(17), int64(1)\n",
      "memory usage: 16.5 KB\n",
      "None\n"
     ]
    }
   ],
   "source": [
    "# c)Find the datatype of each column\n",
    "#To print the datatype of each column we can use the info function\n",
    "print(dataset.info())"
   ]
  },
  {
   "cell_type": "code",
   "execution_count": 31,
   "metadata": {},
   "outputs": [
    {
     "name": "stdout",
     "output_type": "stream",
     "text": [
      "     YEAR    JAN    FEB    MAR    APR    MAY    JUN    JUL    AUG    SEP  \\\n",
      "111  2012  23.61  26.44  30.20  32.46  34.30  33.60  31.88  30.96  30.65   \n",
      "65   1966  24.11  26.97  29.45  31.95  33.66  32.67  31.25  30.77  30.25   \n",
      "80   1981  23.73  26.07  28.75  32.26  33.90  33.19  30.87  30.57  30.74   \n",
      "30   1931  24.57  24.54  29.02  32.65  33.46  33.36  30.40  30.70  30.16   \n",
      "73   1974  23.54  25.14  29.94  32.68  33.16  32.70  31.07  30.94  30.87   \n",
      "..    ...    ...    ...    ...    ...    ...    ...    ...    ...    ...   \n",
      "106  2007  25.19  26.28  29.33  33.57  34.05  32.63  31.29  31.06  30.64   \n",
      "14   1915  22.60  23.84  27.62  31.36  34.20  33.10  31.52  30.79  30.79   \n",
      "92   1993  23.82  26.79  28.37  32.33  34.14  33.18  30.98  31.21  30.52   \n",
      "51   1952  23.91  26.43  28.00  32.22  33.18  32.65  30.85  30.14  30.78   \n",
      "102  2003  24.27  26.36  29.13  32.91  34.12  33.77  31.30  30.93  30.86   \n",
      "\n",
      "       OCT    NOV    DEC  ANNUAL  JAN-FEB  MAR-MAY  JUN-SEP  OCT-DEC  \n",
      "111  30.20  28.11  25.34   29.81    25.03    32.33    31.77    27.88  \n",
      "65   29.68  27.41  24.70   29.41    25.54    31.69    31.24    27.26  \n",
      "80   30.01  27.12  24.58   29.32    24.90    31.64    31.34    27.24  \n",
      "30   29.39  26.94  24.58   29.15    24.55    31.71    31.16    26.97  \n",
      "73   29.96  27.49  23.63   29.26    24.34    31.92    31.39    27.03  \n",
      "..     ...    ...    ...     ...      ...      ...      ...      ...  \n",
      "106  30.49  28.41  25.19   29.84    25.73    32.32    31.40    28.03  \n",
      "14   30.08  27.62  23.78   28.94    23.22    31.06    31.51    27.19  \n",
      "92   30.16  27.66  25.41   29.55    25.31    31.61    31.47    27.74  \n",
      "51   29.78  27.36  24.65   29.16    25.17    31.13    31.11    27.26  \n",
      "102  30.26  27.86  24.97   29.75    25.32    32.05    31.72    27.70  \n",
      "\n",
      "[87 rows x 18 columns]\n"
     ]
    }
   ],
   "source": [
    "# d)Randomly dividing the dataset in training(75%) and testing(25%)\n",
    "train_data,test_data = train_test_split(dataset,test_size=0.25,random_state=42)\n",
    "print(train_data)"
   ]
  },
  {
   "cell_type": "code",
   "execution_count": 32,
   "metadata": {},
   "outputs": [
    {
     "name": "stdout",
     "output_type": "stream",
     "text": [
      "     YEAR    JAN    FEB    MAR    APR    MAY    JUN    JUL    AUG    SEP  \\\n",
      "44   1945  22.38  25.33  29.11  30.89  33.61  33.63  31.08  30.66  30.55   \n",
      "4    1905  22.00  22.83  26.68  30.01  33.32  33.25  31.44  30.68  30.12   \n",
      "53   1954  22.79  25.61  29.29  32.47  33.90  32.58  30.62  30.54  29.87   \n",
      "42   1943  22.97  25.12  29.06  30.75  32.68  32.17  30.84  30.15  30.20   \n",
      "10   1911  23.22  24.58  27.04  31.27  33.78  32.23  31.44  30.80  30.10   \n",
      "85   1986  23.61  25.67  29.39  32.11  33.28  32.97  31.15  30.67  31.00   \n",
      "72   1973  24.02  26.67  29.26  33.30  34.01  33.05  31.34  30.15  30.57   \n",
      "94   1995  24.44  26.93  29.92  32.83  34.45  34.48  31.39  30.91  31.24   \n",
      "36   1937  23.34  24.92  28.06  30.96  33.49  33.17  30.37  30.76  30.56   \n",
      "11   1912  23.70  26.07  28.70  31.29  33.30  33.18  31.05  30.18  30.19   \n",
      "40   1941  23.18  25.79  29.83  32.80  33.84  32.79  31.29  31.12  30.30   \n",
      "26   1927  23.23  24.28  28.09  31.50  32.58  32.33  30.66  29.92  30.27   \n",
      "95   1996  25.18  27.40  30.86  32.40  33.69  32.50  31.19  30.23  30.86   \n",
      "104  2005  24.18  25.74  29.50  32.37  33.57  33.88  30.96  31.45  31.05   \n",
      "18   1919  23.32  24.10  28.58  31.55  33.38  32.48  30.79  30.10  29.81   \n",
      "0    1901  22.40  24.14  29.07  31.91  33.41  33.18  31.21  30.39  30.47   \n",
      "62   1963  22.90  26.56  28.95  30.99  32.89  32.90  31.37  30.36  30.51   \n",
      "112  2013  24.56  26.59  30.62  32.66  34.46  32.44  31.07  30.76  31.04   \n",
      "76   1977  23.98  26.31  30.79  31.70  32.45  32.69  30.90  30.64  30.65   \n",
      "101  2002  24.56  26.18  30.59  33.51  35.08  33.46  32.76  31.04  31.05   \n",
      "68   1969  23.78  26.19  30.55  32.40  33.10  33.41  31.33  30.80  30.66   \n",
      "89   1990  24.24  25.75  28.25  31.59  32.74  32.56  30.83  30.69  30.67   \n",
      "115  2016  26.94  29.72  32.62  35.38  35.72  34.03  31.64  31.79  31.66   \n",
      "12   1913  23.71  24.79  27.62  32.02  33.07  32.23  30.65  30.48  30.33   \n",
      "15   1916  24.13  25.01  30.21  31.99  33.43  31.78  30.61  29.97  29.73   \n",
      "69   1970  24.19  26.19  28.90  32.98  34.22  32.33  31.30  30.59  30.41   \n",
      "31   1932  24.13  24.89  28.82  32.08  32.61  32.91  30.99  30.34  30.83   \n",
      "24   1925  22.56  24.58  29.32  32.53  32.56  31.88  30.31  30.08  30.41   \n",
      "56   1957  22.98  24.75  27.78  30.91  32.58  32.50  31.04  30.18  30.56   \n",
      "22   1923  23.25  24.20  28.61  32.37  33.23  33.56  30.41  29.96  30.01   \n",
      "\n",
      "       OCT    NOV    DEC  ANNUAL  JAN-FEB  MAR-MAY  JUN-SEP  OCT-DEC  \n",
      "44   29.42  27.08  23.96   28.97    23.86    31.19    31.48    26.82  \n",
      "4    30.67  27.52  23.82   28.30    22.25    30.00    31.33    26.57  \n",
      "53   28.24  26.74  24.42   28.92    24.20    31.89    30.90    26.46  \n",
      "42   29.43  27.69  24.88   28.80    24.03    30.80    30.83    27.33  \n",
      "10   29.43  25.70  23.71   28.62    23.90    30.70    31.14    26.31  \n",
      "85   29.86  27.63  24.75   29.33    24.64    31.58    31.44    27.40  \n",
      "72   29.41  27.38  24.12   29.44    25.35    32.19    31.28    26.97  \n",
      "94   30.93  28.51  26.21   30.18    25.68    32.40    32.01    28.52  \n",
      "36   28.83  26.69  23.27   28.70    24.13    30.84    31.22    26.26  \n",
      "11   29.64  26.37  23.70   28.95    24.88    31.10    31.15    26.57  \n",
      "40   30.52  27.35  24.98   29.46    24.37    32.12    31.37    27.62  \n",
      "26   29.55  26.30  24.33   28.59    23.76    30.72    30.80    26.73  \n",
      "95   29.44  27.61  24.83   29.58    26.30    32.07    31.19    27.29  \n",
      "104  29.78  27.60  25.11   29.60    24.96    31.81    31.84    27.50  \n",
      "18   29.44  26.85  23.50   28.66    23.71    31.17    30.80    26.60  \n",
      "0    29.97  27.31  24.49   28.96    23.27    31.46    31.27    27.25  \n",
      "62   29.85  26.83  24.33   29.04    24.73    30.94    31.28    27.00  \n",
      "112  30.27  27.83  25.37   29.81    25.58    32.58    31.33    27.83  \n",
      "76   30.07  27.82  24.88   29.41    25.15    31.65    31.22    27.59  \n",
      "101  31.02  28.86  25.88   30.23    25.37    33.06    32.02    28.36  \n",
      "68   30.13  27.73  25.27   29.61    24.99    32.02    31.55    27.71  \n",
      "89   29.66  27.72  25.16   29.14    25.00    30.84    31.18    27.50  \n",
      "115  31.98  30.11  28.01   31.63    28.33    34.57    32.28    30.03  \n",
      "12   29.42  26.28  23.56   28.67    24.25    30.89    30.92    26.42  \n",
      "15   28.98  26.14  23.82   28.82    24.57    31.88    30.52    26.31  \n",
      "69   29.89  27.55  25.07   29.47    25.19    32.03    31.16    27.50  \n",
      "31   29.68  27.35  24.52   29.09    24.51    31.17    31.25    27.18  \n",
      "24   29.43  26.20  24.15   28.67    23.57    31.47    30.67    26.59  \n",
      "56   29.12  26.82  24.52   28.64    23.87    30.42    31.07    26.82  \n",
      "22   28.57  26.68  24.05   28.74    23.73    31.40    30.98    26.43  \n",
      "(30, 18)\n"
     ]
    }
   ],
   "source": [
    "print(test_data)\n",
    "print(test_data.shape)"
   ]
  },
  {
   "cell_type": "code",
   "execution_count": 49,
   "metadata": {},
   "outputs": [
    {
     "name": "stdout",
     "output_type": "stream",
     "text": [
      "[[395  55]\n",
      " [  5  45]]\n"
     ]
    }
   ],
   "source": [
    "y_true = [1]*50 + [0]*450\n",
    "\n",
    "# Predicted labels\n",
    "y_pred =  [1]*45 + [0]*5 + [1]*55 + [0]*395\n",
    "# Create confusion matrix\n",
    "cm = confusion_matrix(y_true, y_pred)\n",
    "\n",
    "# Print confusion matrix\n",
    "print(cm)"
   ]
  },
  {
   "cell_type": "code",
   "execution_count": 58,
   "metadata": {},
   "outputs": [
    {
     "name": "stdout",
     "output_type": "stream",
     "text": [
      "              precision    recall  f1-score   support\n",
      "\n",
      "           0       0.99      0.88      0.93       450\n",
      "           1       0.45      0.90      0.60        50\n",
      "\n",
      "    accuracy                           0.88       500\n",
      "   macro avg       0.72      0.89      0.76       500\n",
      "weighted avg       0.93      0.88      0.90       500\n",
      "\n"
     ]
    }
   ],
   "source": [
    "print(classification_report(y_true,y_pred))"
   ]
  },
  {
   "cell_type": "code",
   "execution_count": null,
   "metadata": {},
   "outputs": [],
   "source": []
  }
 ],
 "metadata": {
  "kernelspec": {
   "display_name": "Python 3",
   "language": "python",
   "name": "python3"
  },
  "language_info": {
   "codemirror_mode": {
    "name": "ipython",
    "version": 3
   },
   "file_extension": ".py",
   "mimetype": "text/x-python",
   "name": "python",
   "nbconvert_exporter": "python",
   "pygments_lexer": "ipython3",
   "version": "3.8.3"
  }
 },
 "nbformat": 4,
 "nbformat_minor": 4
}
